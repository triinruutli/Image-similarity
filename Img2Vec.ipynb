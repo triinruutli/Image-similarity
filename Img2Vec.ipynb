{
  "nbformat": 4,
  "nbformat_minor": 0,
  "metadata": {
    "kernelspec": {
      "display_name": "Python 3",
      "language": "python",
      "name": "python3"
    },
    "language_info": {
      "codemirror_mode": {
        "name": "ipython",
        "version": 3
      },
      "file_extension": ".py",
      "mimetype": "text/x-python",
      "name": "python",
      "nbconvert_exporter": "python",
      "pygments_lexer": "ipython3",
      "version": "3.7.6"
    },
    "colab": {
      "name": "Img2Vec.ipynb",
      "provenance": []
    }
  },
  "cells": [
    {
      "cell_type": "code",
      "metadata": {
        "id": "ady1ysLfp38E",
        "colab_type": "code",
        "colab": {}
      },
      "source": [
        "!pip install img2vec_pytorch\n",
        "from img2vec_pytorch import Img2Vec\n",
        "from PIL import Image\n",
        "import torch.nn as nn\n",
        "\n"
      ],
      "execution_count": 0,
      "outputs": []
    },
    {
      "cell_type": "code",
      "metadata": {
        "id": "8X9aS-PorhWx",
        "colab_type": "code",
        "colab": {}
      },
      "source": [
        "img2vec = Img2Vec()\n",
        "\n",
        "img1 = Image.open('/content/4.jpg')\n",
        "img2 = Image.open('/content/7.jpg')\n",
        "\n",
        "vec1 = img2vec.get_vec(img1, tensor=True)\n",
        "vec2 = img2vec.get_vec(img2,tensor=True)\n",
        "\n",
        "cos = nn.CosineSimilarity()\n",
        "print(cos(vec1, vec2))\n",
        "\n"
      ],
      "execution_count": 0,
      "outputs": []
    },
    {
      "cell_type": "code",
      "metadata": {
        "id": "PfOIFzLdp38K",
        "colab_type": "code",
        "colab": {}
      },
      "source": [
        ""
      ],
      "execution_count": 0,
      "outputs": []
    },
    {
      "cell_type": "code",
      "metadata": {
        "id": "5aWuf5fZp38O",
        "colab_type": "code",
        "colab": {}
      },
      "source": [
        ""
      ],
      "execution_count": 0,
      "outputs": []
    },
    {
      "cell_type": "code",
      "metadata": {
        "id": "aouhGRsVp38V",
        "colab_type": "code",
        "colab": {}
      },
      "source": [
        ""
      ],
      "execution_count": 0,
      "outputs": []
    }
  ]
}